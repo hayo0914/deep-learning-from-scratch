{
 "cells": [
  {
   "cell_type": "code",
   "execution_count": 38,
   "metadata": {},
   "outputs": [
    {
     "name": "stdout",
     "output_type": "stream",
     "text": [
      "{'race': '1R', 'num': 6}\n"
     ]
    }
   ],
   "source": [
    "import requests\n",
    "import lxml.html\n",
    "import re\n",
    "\n",
    "def getHtml():\n",
    "    payload = {'ymd': '20180921', 'k': '06', 'r': 1}\n",
    "    r = requests.post(\"http://kyotei.sakura.ne.jp/bangumi2.php\", data=payload)\n",
    "    return r.content\n",
    "\n",
    "def fetchRace(dom):\n",
    "    data = dom.xpath(\"//table[@cellspacing=1]//td//a/text()\")\n",
    "    race = data[0]\n",
    "    race = re.sub(r'\\s', '', race)\n",
    "    \n",
    "    return {\n",
    "        \"race\": race,\n",
    "        \"num\": len(data) - 1\n",
    "    }\n",
    "    \n",
    "class Race:\n",
    "    def __init__(self, html):\n",
    "        dom = lxml.html.fromstring(html)\n",
    "        print(fetchRace(dom))\n",
    "\n",
    "if __name__ == '__main__':\n",
    "    html = getHtml()\n",
    "    race = Race(html)\n"
   ]
  }
 ],
 "metadata": {
  "kernelspec": {
   "display_name": "Python 3",
   "language": "python",
   "name": "python3"
  },
  "language_info": {
   "codemirror_mode": {
    "name": "ipython",
    "version": 3
   },
   "file_extension": ".py",
   "mimetype": "text/x-python",
   "name": "python",
   "nbconvert_exporter": "python",
   "pygments_lexer": "ipython3",
   "version": "3.6.4"
  }
 },
 "nbformat": 4,
 "nbformat_minor": 2
}
