{
 "cells": [
  {
   "cell_type": "code",
   "execution_count": null,
   "metadata": {},
   "outputs": [],
   "source": [
    "\"\"\"\n",
    "[パーセプトロン]\n",
    "パーセプトロンは, 複数の入力信号を受け取り, その総和を計算し, その総和がある閾値を超えた場合に1を出力し、それ以外の場合に0を出力する.\n",
    "個別のパーセプトロンは, ニューロンまたはノードとも呼ぶ.\n",
    "パーセプトロンは 複数の入力信号それぞれに固有の重みを持つ.\n",
    "重みが大きいほど重要な入力信号となる.\n",
    "\"\"\""
   ]
  },
  {
   "cell_type": "code",
   "execution_count": 8,
   "metadata": {},
   "outputs": [
    {
     "data": {
      "text/plain": [
       "[0, 0, 0, 1]"
      ]
     },
     "execution_count": 8,
     "metadata": {},
     "output_type": "execute_result"
    }
   ],
   "source": [
    "# ANDゲートの実装\n",
    "def AND(x1, x2):\n",
    "    \"\"\"x1, x2は1か0の値とする\"\"\"\n",
    "    w1, w2, theta = 0.5, 0.5, 0.7\n",
    "    tmp = x1*w1 + x2*w2\n",
    "    if tmp <= theta:\n",
    "        return 0\n",
    "    elif tmp > theta:\n",
    "        return 1\n",
    "\n",
    "[\n",
    "    AND(0, 0),\n",
    "    AND(1, 0),\n",
    "    AND(0, 1),\n",
    "    AND(1, 1)\n",
    "]"
   ]
  },
  {
   "cell_type": "code",
   "execution_count": 11,
   "metadata": {},
   "outputs": [
    {
     "data": {
      "text/plain": [
       "[0, 0, 0, 1]"
      ]
     },
     "execution_count": 11,
     "metadata": {},
     "output_type": "execute_result"
    }
   ],
   "source": [
    "\"\"\"\n",
    "重みとバイアスによるANDゲートの実装\n",
    "\n",
    "バイアスの値によってニューロンの発火のしやすさが決まる.\n",
    "\"\"\"\n",
    "\n",
    "import numpy as np\n",
    "\n",
    "def AND(x1, x2):\n",
    "    \"\"\"x1, x2は1か0の値とする\"\"\"\n",
    "    x = np.array([x1, x2])\n",
    "    w = np.array([0.5, 0.5])\n",
    "    b = -0.7\n",
    "    tmp = np.sum(w*x) + b\n",
    "    if tmp <= 0:\n",
    "        return 0\n",
    "    else:\n",
    "        return 1\n",
    "\n",
    "[\n",
    "    AND(0, 0),\n",
    "    AND(1, 0),\n",
    "    AND(0, 1),\n",
    "    AND(1, 1)\n",
    "]"
   ]
  },
  {
   "cell_type": "code",
   "execution_count": 17,
   "metadata": {},
   "outputs": [
    {
     "name": "stdout",
     "output_type": "stream",
     "text": [
      "NAND(0, 0) = 1\n",
      "NAND(1, 0) = 1\n",
      "NAND(0, 1) = 1\n",
      "NAND(1, 1) = 0\n",
      "OR(0, 0) = 0\n",
      "OR(1, 0) = 1\n",
      "OR(0, 1) = 1\n",
      "OR(1, 1) = 1\n"
     ]
    }
   ],
   "source": [
    "# NANDゲート, ORゲートの実装\n",
    "\n",
    "def NAND(x1, x2):\n",
    "    \"\"\"x1, x2は1か0の値とする\"\"\"\n",
    "    x = np.array([x1, x2])\n",
    "    w = np.array([-0.5, -0.5])\n",
    "    b = 0.7\n",
    "    tmp = np.sum(w*x) + b\n",
    "    if tmp <= 0:\n",
    "        return 0\n",
    "    else:\n",
    "        return 1\n",
    "\n",
    "def OR(x1, x2):\n",
    "    \"\"\"x1, x2は1か0の値とする\"\"\"\n",
    "    x = np.array([x1, x2])\n",
    "    w = np.array([0.5, 0.5])\n",
    "    b = -0.2\n",
    "    tmp = np.sum(w*x) + b\n",
    "    if tmp <= 0:\n",
    "        return 0\n",
    "    else:\n",
    "        return 1\n",
    "\n",
    "inputData = [[0, 0], [1, 0], [0, 1], [1, 1]]\n",
    "for x1, x2 in inputData:\n",
    "    print(\"NAND({}, {}) = {}\".format(x1, x2, NAND(x1, x2)))\n",
    "for x1, x2 in inputData:\n",
    "    print(\"OR({}, {}) = {}\".format(x1, x2, OR(x1, x2)))"
   ]
  },
  {
   "cell_type": "code",
   "execution_count": 24,
   "metadata": {},
   "outputs": [
    {
     "name": "stdout",
     "output_type": "stream",
     "text": [
      "XOR(0, 0) = 0\n",
      "XOR(1, 0) = 1\n",
      "XOR(0, 1) = 1\n",
      "XOR(1, 1) = 0\n"
     ]
    }
   ],
   "source": [
    "\"\"\"\n",
    "[多層パーセプトロン]\n",
    "層を複数重ねたパーセプトロン\n",
    "\n",
    "XORゲートは非線形な結果を出力するため, パーセプトロン単体では表現できない.\n",
    "XORゲートを作る1つの方法は, AND, NAND, ORを組み合わせて配線することである.\n",
    "\n",
    "(1, 1)をNANDゲートで排除し, (0, 0)をORゲートで排除する.\n",
    "それらの出力をANDゲートに結線することによりXORゲートを表現できる.\n",
    "XORは二層のパーセプトロンである.\n",
    "\"\"\"\n",
    "\n",
    "def XOR(x1, x2):\n",
    "    s1 = NAND(x1, x2)\n",
    "    s2 = OR(x1, x2)\n",
    "    y = AND(s1, s2)\n",
    "    return y\n",
    "\n",
    "for x1, x2 in inputData:\n",
    "    print(\"XOR({}, {}) = {}\".format(x1, x2, XOR(x1, x2)))"
   ]
  }
 ],
 "metadata": {
  "kernelspec": {
   "display_name": "Python 3",
   "language": "python",
   "name": "python3"
  },
  "language_info": {
   "codemirror_mode": {
    "name": "ipython",
    "version": 3
   },
   "file_extension": ".py",
   "mimetype": "text/x-python",
   "name": "python",
   "nbconvert_exporter": "python",
   "pygments_lexer": "ipython3",
   "version": "3.6.4"
  }
 },
 "nbformat": 4,
 "nbformat_minor": 2
}
