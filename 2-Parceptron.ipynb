{
 "cells": [
  {
   "cell_type": "code",
   "execution_count": null,
   "metadata": {},
   "outputs": [],
   "source": [
    "\"\"\"\n",
    "[パーセプトロン]\n",
    "パーセプトロンは, 複数の入力信号を受け取り, その総和を計算し, その総和がある閾値を超えた場合に1を出力し、それ以外の場合に0を出力する.\n",
    "個別のパーセプトロンは, ニューロンまたはノードとも呼ぶ.\n",
    "パーセプトロンは 複数の入力信号それぞれに固有の重みを持つ.\n",
    "重みが大きいほど重要な入力信号となる.\n",
    "\"\"\""
   ]
  }
 ],
 "metadata": {
  "kernelspec": {
   "display_name": "Python 3",
   "language": "python",
   "name": "python3"
  },
  "language_info": {
   "codemirror_mode": {
    "name": "ipython",
    "version": 3
   },
   "file_extension": ".py",
   "mimetype": "text/x-python",
   "name": "python",
   "nbconvert_exporter": "python",
   "pygments_lexer": "ipython3",
   "version": "3.6.4"
  }
 },
 "nbformat": 4,
 "nbformat_minor": 2
}
