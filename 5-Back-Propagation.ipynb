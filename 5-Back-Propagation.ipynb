{
 "cells": [
  {
   "cell_type": "code",
   "execution_count": null,
   "metadata": {},
   "outputs": [],
   "source": [
    "\"\"\"\n",
    "[誤差逆伝播法(Back Propagation)]\n",
    "勾配を数値微分で計算する方法は, シンプルで実装が容易だが, 計算に時間がかかるという難点がある.\n",
    "逆伝播は計算グラフの各ノードにおいて, 局所的な微分を信号に乗算して, 次のノードに伝達していく.\n",
    "この計算を行うことによって, 目的とする微分の値を効率よく求めることができる.\n",
    "\n",
    "[連鎖律の原理]\n",
    "ある関数が合成関数で表される場合, その合成関数の微分は, 合成関数を構成するそれぞれの関数の微分の積によって表すことができる.\n",
    "これを連鎖律の原理という.\n",
    "\n",
    "\"\"\"\n",
    "pass"
   ]
  },
  {
   "cell_type": "code",
   "execution_count": 1,
   "metadata": {},
   "outputs": [],
   "source": [
    "\"\"\"\n",
    "乗算レイヤの実装\n",
    "\"\"\"\n",
    "class MulLayer:\n",
    "    def __init__(self):\n",
    "        self.x = None\n",
    "        self.y = None\n",
    "    \n",
    "    def forward(self, x, y):\n",
    "        self.x = x\n",
    "        self.y = y\n",
    "        out = x * y\n",
    "    \n",
    "        return out\n",
    "    \n",
    "    def backward(self, dout):\n",
    "        dx = dout * self.y # 順伝播のひっくり返した値を乗算して下流に流す\n",
    "        dy = dout * self.x\n",
    "        \n",
    "        return dx, dy"
   ]
  },
  {
   "cell_type": "code",
   "execution_count": 5,
   "metadata": {},
   "outputs": [
    {
     "name": "stdout",
     "output_type": "stream",
     "text": [
      "220.00000000000003\n",
      "Diff for variables:  2.2 , 110.00000000000001 , 200\n"
     ]
    }
   ],
   "source": [
    "\"\"\"\n",
    "りんご２個の買い物\n",
    "\"\"\"\n",
    "apple = 100\n",
    "apple_num = 2\n",
    "orange_num = 3\n",
    "tax = 1.1\n",
    "\n",
    "# layer\n",
    "mul_apple_layer = MulLayer()\n",
    "mul_tax_layer = MulLayer()\n",
    "\n",
    "# forward\n",
    "apple_price = mul_apple_layer.forward(apple, apple_num)\n",
    "price = mul_tax_layer.forward(apple_price, tax)\n",
    "\n",
    "print(price)\n",
    "\n",
    "# backward\n",
    "# 各変数に関する微分を求める\n",
    "\n",
    "dprice = 1\n",
    "dapple_price, dtax = mul_tax_layer.backward(dprice)\n",
    "dapple, dapple_num = mul_apple_layer.backward(dapple_price)\n",
    "\n",
    "print(\"Diff for variables: \", dapple, \",\" , dapple_num, \",\", dtax)"
   ]
  },
  {
   "cell_type": "code",
   "execution_count": 8,
   "metadata": {},
   "outputs": [],
   "source": [
    "\"\"\"\n",
    "加算レイヤの実装\n",
    "\"\"\"\n",
    "class AddLayer:\n",
    "    \n",
    "    def __init__(self):\n",
    "        pass\n",
    "    \n",
    "    def forward(self, x, y):\n",
    "        out = x + y\n",
    "        return out\n",
    "    \n",
    "    def backward(self, dout):\n",
    "        dx = dout * 1\n",
    "        dy = dout * 1\n",
    "        return dx, dy"
   ]
  },
  {
   "cell_type": "code",
   "execution_count": 15,
   "metadata": {},
   "outputs": [
    {
     "name": "stdout",
     "output_type": "stream",
     "text": [
      "Ouput Price: 715.0000000000001\n",
      "Diff of Apple num: 110.00000000000001\n",
      "Diff of Apple price: 2.2\n",
      "Diff of Orange num: 165.0\n",
      "Diff of Orange price: 3.3000000000000003\n",
      "Diff of Tax: 650\n"
     ]
    }
   ],
   "source": [
    "\"\"\"\n",
    "りんご２個とみかん３個の買い物\n",
    "\"\"\"\n",
    "apple = 100\n",
    "apple_num = 2\n",
    "orange = 150\n",
    "orange_num = 3\n",
    "tax = 1.1\n",
    "\n",
    "# layer\n",
    "mul_apple_layer = MulLayer()\n",
    "mul_orange_layer = MulLayer()\n",
    "add_apple_orange_layer = AddLayer()\n",
    "mul_tax_layer = MulLayer()\n",
    "\n",
    "# forward\n",
    "apple_price = mul_apple_layer.forward(apple, apple_num)\n",
    "orange_price = mul_orange_layer.forward(orange, orange_num)\n",
    "all_price = add_apple_orange_layer.forward(apple_price, orange_price)\n",
    "price = mul_tax_layer.forward(all_price, tax)\n",
    "\n",
    "# backward\n",
    "dprice = 1\n",
    "dall_price, dtax = mul_tax_layer.backward(dprice)\n",
    "dapple_price, dorange_price = add_apple_orange_layer.backward(dall_price)\n",
    "dorange, dorange_num = mul_orange_layer.backward(dorange_price)\n",
    "dapple, dapple_num = mul_apple_layer.backward(dapple_price)\n",
    "\n",
    "print(\"Ouput Price:\", price)\n",
    "print(\"Diff of Apple num:\", dapple_num)\n",
    "print(\"Diff of Apple price:\", dapple)\n",
    "print(\"Diff of Orange num:\", dorange_num)\n",
    "print(\"Diff of Orange price:\", dorange)\n",
    "print(\"Diff of Tax:\", dtax)"
   ]
  }
 ],
 "metadata": {
  "kernelspec": {
   "display_name": "Python 3",
   "language": "python",
   "name": "python3"
  },
  "language_info": {
   "codemirror_mode": {
    "name": "ipython",
    "version": 3
   },
   "file_extension": ".py",
   "mimetype": "text/x-python",
   "name": "python",
   "nbconvert_exporter": "python",
   "pygments_lexer": "ipython3",
   "version": "3.6.4"
  }
 },
 "nbformat": 4,
 "nbformat_minor": 2
}
