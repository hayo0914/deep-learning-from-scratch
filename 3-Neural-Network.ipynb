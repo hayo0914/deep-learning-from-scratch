{
 "cells": [
  {
   "cell_type": "code",
   "execution_count": 2,
   "metadata": {},
   "outputs": [],
   "source": [
    "\"\"\"\n",
    "[活性化関数]\n",
    "閾値を境にして出力が切り替わる関数である.\n",
    "パーセプトロンは, 活性化関数にステップ関数を利用している.\n",
    "ニューラルネットワークでよく用いられる活性化関数はシグモイド関数である.\n",
    "\n",
    "[シグモイド関数(sigmoid function)]\n",
    "ニューラルネットワークでは活性化関数にシグモイド関数を用いて信号の変換を行い, その変換された信号が次のニューロンに伝えられる.\n",
    "シグモイド関数は以下の式で表される.\n",
    "\n",
    "h(x) = 1/(1 + exp(-x))\n",
    "\n",
    "exp(-x)はe^-xを意味する.\n",
    "eはネイピア数.\n",
    "\"\"\"\n",
    "pass"
   ]
  },
  {
   "cell_type": "code",
   "execution_count": 3,
   "metadata": {},
   "outputs": [
    {
     "data": {
      "text/plain": [
       "array([0, 1, 1])"
      ]
     },
     "execution_count": 3,
     "metadata": {},
     "output_type": "execute_result"
    }
   ],
   "source": [
    "import numpy as np\n",
    "\n",
    "# ステップ関数\n",
    "def step_function(x):\n",
    "    y = x > 0\n",
    "    return y.astype(np.int)\n",
    "\n",
    "step_function(np.array([-1, 1, 2]))"
   ]
  },
  {
   "cell_type": "code",
   "execution_count": 4,
   "metadata": {},
   "outputs": [
    {
     "data": {
      "text/plain": [
       "<matplotlib.figure.Figure at 0x1122a0a58>"
      ]
     },
     "metadata": {},
     "output_type": "display_data"
    }
   ],
   "source": [
    "# ステップ関数のグラフ\n",
    "# ステップ関数は閾値で出力が変わる\n",
    "\n",
    "import numpy as np\n",
    "import matplotlib.pylab as plt\n",
    "\n",
    "def step_function(x):\n",
    "    return np.array(x > 0, dtype=np.int)\n",
    "\n",
    "x = np.arange(-5.0, 5.0, 0.1)\n",
    "y = step_function(x)\n",
    "plt.plot(x, y)\n",
    "plt.ylim(-0.1, 1.1) # y軸の範囲を指定\n",
    "plt.show()"
   ]
  },
  {
   "cell_type": "code",
   "execution_count": 5,
   "metadata": {},
   "outputs": [
    {
     "data": {
      "image/png": "[encoded data removed]",
      "text/plain": [
       "<matplotlib.figure.Figure at 0x118ce7470>"
      ]
     },
     "metadata": {},
     "output_type": "display_data"
    }
   ],
   "source": [
    "\"\"\"\n",
    "シグモイド関数のグラフ\n",
    "\n",
    "シグモイド関数は0か1ではなく, 連続的な実数を返す.\n",
    "\n",
    "ステップ関数と同様に, 入力が大きいほど1に近づき, 小さいほど0に近づく.\n",
    "入力信号にかかわらず, 0から1の値を出力することも両者の共通点である.\n",
    "\n",
    "ステップ関数もシグモイド関数も非線形関数である.\n",
    "パーセプトロンやニューラルネットワークのように, 複数の層を重ねる場合, 活性化関数に非線形関数を使わなければ意味がない.\n",
    "複数の線形関数は1つの関数で表せるため.\n",
    "\"\"\"\n",
    "\n",
    "# シグモイド関数\n",
    "def sigmoid(x):\n",
    "    return 1 / (1 + np.exp(-x)) # numpyのブロードキャスト機能により, 配列にも対応\n",
    "\n",
    "x = np.arange(-5.0, 5.0, 0.1)\n",
    "y = sigmoid(x)\n",
    "plt.plot(x, y)\n",
    "plt.ylim(-0.1, 1.1) # y軸の範囲を指定\n",
    "plt.show()"
   ]
  },
  {
   "cell_type": "code",
   "execution_count": 6,
   "metadata": {},
   "outputs": [],
   "source": [
    "\"\"\"\n",
    "[ReLU(Rectified Linear Unit)]\n",
    "シグモイド関数以外で, ニューラルネットワークで使われる関数\n",
    "ReLUは入力が0を超えていれば, その入力をそのまま出し, 0以下である場合は0を出力する.\n",
    "\"\"\"\n",
    "\n",
    "def relu(x):\n",
    "    return np.maximum(0, x)"
   ]
  },
  {
   "cell_type": "code",
   "execution_count": 7,
   "metadata": {},
   "outputs": [
    {
     "name": "stdout",
     "output_type": "stream",
     "text": [
      "[[1 2]\n",
      " [3 4]\n",
      " [5 6]]\n",
      "2\n",
      "(3, 2)\n"
     ]
    }
   ],
   "source": [
    "\"\"\"\n",
    "[行列(matrix)]\n",
    "2次元配列のことを行列と呼ぶ.\n",
    "\"\"\"\n",
    "B = np.array([[1, 2], [3, 4], [5, 6]])\n",
    "print(B)\n",
    "print(np.ndim(B))\n",
    "print(B.shape) # 3 * 2の配列(最初が0番目の次元, つまり縦の行数)"
   ]
  },
  {
   "cell_type": "code",
   "execution_count": 8,
   "metadata": {},
   "outputs": [
    {
     "data": {
      "text/plain": [
       "array([[19, 22],\n",
       "       [43, 50]])"
      ]
     },
     "execution_count": 8,
     "metadata": {},
     "output_type": "execute_result"
    }
   ],
   "source": [
    "\"\"\"\n",
    "行列の積\n",
    "\n",
    "行列の積は, 左側の行と, 右側の行の間の積と和によって計算される.\n",
    "行列の積は, 左側の行列の1次元目の要素数(列数)と, 右側の行列の要素数(行数)を同じ値にする必要がある.\n",
    "\n",
    "[np.dot()関数]\n",
    "ドット積(・)を行う関数\n",
    "1次元配列の場合はベクトルを, ２次元配列では行列の積を計算する.\n",
    "\"\"\"\n",
    "\n",
    "A = np.array([[1, 2], [3, 4]])\n",
    "B = np.array([[5, 6], [7, 8]])\n",
    "np.dot(A, B)"
   ]
  },
  {
   "cell_type": "code",
   "execution_count": 9,
   "metadata": {},
   "outputs": [
    {
     "name": "stdout",
     "output_type": "stream",
     "text": [
      "X = [1 2]\n",
      "W = [[1 3 5]\n",
      " [2 4 6]]\n",
      "Y = [ 5 11 17]\n"
     ]
    }
   ],
   "source": [
    "\"\"\"\n",
    "ニューラルネットワークの行列の積\n",
    "\"\"\"\n",
    "X = np.array([1, 2]) # 入力\n",
    "print(\"X =\", X)\n",
    "X.shape\n",
    "W = np.array([[1, 3, 5], [2, 4, 6]]) # 重み\n",
    "print(\"W =\", W)\n",
    "W.shape\n",
    "Y = np.dot(X, W) # 出力\n",
    "print(\"Y =\", Y)"
   ]
  },
  {
   "cell_type": "code",
   "execution_count": 10,
   "metadata": {},
   "outputs": [
    {
     "name": "stdout",
     "output_type": "stream",
     "text": [
      "W1 shape = (2, 3)\n",
      "X shape = (2,)\n",
      "B1 shape = (3,)\n",
      "A1 = [0.3 0.7 1.1]\n",
      "第一層目の出力 = Z1 = [0.57444252 0.66818777 0.75026011]\n",
      "(3,)\n",
      "(3, 2)\n",
      "(2,)\n",
      "第二層目の出力 = Z2 = [0.62624937 0.7710107 ]\n",
      "第三層目の出力 = Y = [0.31682708 0.69627909]\n"
     ]
    }
   ],
   "source": [
    "\"\"\"\n",
    "3層ニューラルネットワークの実装\n",
    "\"\"\"\n",
    "import numpy as np\n",
    "\n",
    "def sigmoid(x):\n",
    "    return 1 / (1 + np.exp(-x)) \n",
    "\n",
    "\n",
    "#####################\n",
    "# 第１層の重み付きの和を計算する\n",
    "#####################\n",
    "X = np.array([1.0, 0.5])\n",
    "W1 = np.array([[0.1, 0.3, 0.5], [0.2, 0.4, 0.6]]) # 1行目はx[0]の重み, 2行目はx[1]の重み\n",
    "B1 = np.array([0.1, 0.2, 0.3]) # バイアス\n",
    "\n",
    "print(\"W1 shape =\", W1.shape)\n",
    "print(\"X shape =\", X.shape)\n",
    "print(\"B1 shape =\", B1.shape)\n",
    "\n",
    "# 第一層目の重み付き和　＝ A1 = XW1 + B1\n",
    "A1 = np.dot(X, W1) + B1\n",
    "print(\"A1 =\", A1)\n",
    "\n",
    "# 活性化関数にシグモイド関数を利用\n",
    "Z1 = sigmoid(A1)\n",
    "print(\"第一層目の出力 = Z1 =\", Z1)\n",
    "\n",
    "#####################\n",
    "# 第１層から第２層までの実装\n",
    "#####################\n",
    "W2 = np.array([[0.1, 0.4], [0.2, 0.5], [0.3, 0.6]]) # 1行目はz1[0], 2行目はz1[1], 3行目はz1[2]の重み\n",
    "B2 = np.array([0.1, 0.2]) # バイアス\n",
    "\n",
    "print(Z1.shape) #  (3, )\n",
    "print(W2.shape) # (3, 2)\n",
    "print(B2.shape) # (2,)\n",
    "\n",
    "A2 = np.dot(Z1, W2) + B2\n",
    "Z2 = sigmoid(A2)\n",
    "print(\"第二層目の出力 = Z2 =\", Z2)\n",
    "\n",
    "#####################\n",
    "# 第2層から第3層までの実装\n",
    "#####################\n",
    "# 最後の活性化関数はシグモイドを使わない\n",
    "# 入力をそのまま出力する関数を恒等関数と呼ぶ\n",
    "def identity_function(x):\n",
    "    return x\n",
    "\n",
    "W3 = np.array([[0.1, 0.3], [0.2, 0.4]])\n",
    "B3 = np.array([0.1, 0.2])\n",
    "\n",
    "A3 = np.dot(Z2, W3) + B3\n",
    "Y = identity_function(A3) # もしくは Y = A3\n",
    "print(\"第三層目の出力 = Y =\", Y)\n"
   ]
  },
  {
   "cell_type": "code",
   "execution_count": 11,
   "metadata": {},
   "outputs": [
    {
     "name": "stdout",
     "output_type": "stream",
     "text": [
      "[0.31682708 0.69627909]\n"
     ]
    }
   ],
   "source": [
    "\"\"\"\n",
    "実装のまとめ\n",
    "\"\"\"\n",
    "def init_network():\n",
    "    network = {}\n",
    "    network['W1'] = np.array([[0.1, 0.3, 0.5], [0.2, 0.4, 0.6]])\n",
    "    network['b1'] = np.array([0.1, 0.2, 0.3])\n",
    "    network['W2'] = np.array([[0.1, 0.4], [0.2, 0.5], [0.3, 0.6]])\n",
    "    network['b2'] = np.array([0.1, 0.2])\n",
    "    network['W3'] = np.array([[0.1, 0.3], [0.2, 0.4]])\n",
    "    network['b3'] = np.array([0.1, 0.2])\n",
    "    \n",
    "    return network\n",
    "\n",
    "# 入力から出力への伝達処理\n",
    "def forward(network, x):\n",
    "    W1, W2, W3 = network['W1'], network['W2'], network['W3']\n",
    "    b1, b2, b3 = network['b1'], network['b2'], network['b3']\n",
    "    \n",
    "    a1 = np.dot(x, W1) + b1\n",
    "    z1 = sigmoid(a1)\n",
    "    a2 = np.dot(z1, W2) + b2\n",
    "    z2 = sigmoid(a2)\n",
    "    a3 = np.dot(z2, W3) + b3\n",
    "    y = identity_function(a3)\n",
    "    \n",
    "    return y\n",
    "\n",
    "network = init_network()\n",
    "x = np.array([1.0, 0.5])\n",
    "y = forward(network, x)\n",
    "print(y)"
   ]
  },
  {
   "cell_type": "code",
   "execution_count": 12,
   "metadata": {},
   "outputs": [],
   "source": [
    "\"\"\"\n",
    "出力層の設計\n",
    "\n",
    "ニューラルネットワークは, 分類問題と回帰問題の両方に利用できる.\n",
    "ただし分類問題と回帰問題のどちらに用いるかで, 出力層の活性化関数を変更する必要がある.\n",
    "一般的に回帰問題では恒等関数を, 分類問題ではソフトマックス関数を使う.\n",
    "\"\"\"\n",
    "pass"
   ]
  },
  {
   "cell_type": "code",
   "execution_count": 13,
   "metadata": {},
   "outputs": [
    {
     "name": "stdout",
     "output_type": "stream",
     "text": [
      "[0.01821127 0.24519181 0.73659691]\n",
      "1.0\n"
     ]
    }
   ],
   "source": [
    "\"\"\"\n",
    "[ソフトマックス関数]\n",
    "ソフトマックス関数の出力は0 〜 1の間の実数になる.\n",
    "ソフトマックス関数の出力の総和は1になる. そのため, ソフトマックスの出力結果を確率として解釈することができる.\n",
    "ニューラルネットワークのクラス分類では, 一般的に出力の一番大きいニューロンに相当クラスだけを認識結果とします.\n",
    "ソフトマックス関数を適用しても出力が一番大きいニューロンの場所は変わらないため, 実際の問題では, 出力層のソフトマックス関数は省略するのが一般的である.\n",
    "\"\"\"\n",
    "def softmax(a):\n",
    "    c = np.max(a)\n",
    "    exp_a = np.exp(a - c) # オーバーフロー対策(値を小さくする)\n",
    "    sum_exp_a = np.sum(exp_a)\n",
    "    y = exp_a / sum_exp_a\n",
    "    \n",
    "    return y\n",
    "\n",
    "result = softmax(np.array([0.3, 2.9, 4.0]))\n",
    "print(result)\n",
    "print(sum(result))\n"
   ]
  },
  {
   "cell_type": "code",
   "execution_count": 14,
   "metadata": {},
   "outputs": [
    {
     "name": "stdout",
     "output_type": "stream",
     "text": [
      "(60000, 784)\n",
      "(60000,)\n",
      "(10000, 784)\n",
      "(10000,)\n"
     ]
    }
   ],
   "source": [
    "import sys, os\n",
    "sys.path.append(os.pardir) # 親ディレクトリのファイルをインポートするための設定\n",
    "from original.dataset.mnist import load_mnist\n",
    "\n",
    "(x_train, t_train), (x_test, t_test) = load_mnist(flatten=True, normalize=False)\n",
    "\n",
    "# それぞれのデータの形状を出力\n",
    "print(x_train.shape)\n",
    "print(t_train.shape)\n",
    "print(x_test.shape)\n",
    "print(t_test.shape)"
   ]
  },
  {
   "cell_type": "code",
   "execution_count": 15,
   "metadata": {},
   "outputs": [
    {
     "name": "stdout",
     "output_type": "stream",
     "text": [
      "5\n",
      "(784,)\n",
      "[[  0   0   0   0   0   0   0   0   0   0   0   0   0   0   0   0   0   0\n",
      "    0   0   0   0   0   0   0   0   0   0]\n",
      " [  0   0   0   0   0   0   0   0   0   0   0   0   0   0   0   0   0   0\n",
      "    0   0   0   0   0   0   0   0   0   0]\n",
      " [  0   0   0   0   0   0   0   0   0   0   0   0   0   0   0   0   0   0\n",
      "    0   0   0   0   0   0   0   0   0   0]\n",
      " [  0   0   0   0   0   0   0   0   0   0   0   0   0   0   0   0   0   0\n",
      "    0   0   0   0   0   0   0   0   0   0]\n",
      " [  0   0   0   0   0   0   0   0   0   0   0   0   0   0   0   0   0   0\n",
      "    0   0   0   0   0   0   0   0   0   0]\n",
      " [  0   0   0   0   0   0   0   0   0   0   0   0   3  18  18  18 126 136\n",
      "  175  26 166 255 247 127   0   0   0   0]\n",
      " [  0   0   0   0   0   0   0   0  30  36  94 154 170 253 253 253 253 253\n",
      "  225 172 253 242 195  64   0   0   0   0]\n",
      " [  0   0   0   0   0   0   0  49 238 253 253 253 253 253 253 253 253 251\n",
      "   93  82  82  56  39   0   0   0   0   0]\n",
      " [  0   0   0   0   0   0   0  18 219 253 253 253 253 253 198 182 247 241\n",
      "    0   0   0   0   0   0   0   0   0   0]\n",
      " [  0   0   0   0   0   0   0   0  80 156 107 253 253 205  11   0  43 154\n",
      "    0   0   0   0   0   0   0   0   0   0]\n",
      " [  0   0   0   0   0   0   0   0   0  14   1 154 253  90   0   0   0   0\n",
      "    0   0   0   0   0   0   0   0   0   0]\n",
      " [  0   0   0   0   0   0   0   0   0   0   0 139 253 190   2   0   0   0\n",
      "    0   0   0   0   0   0   0   0   0   0]\n",
      " [  0   0   0   0   0   0   0   0   0   0   0  11 190 253  70   0   0   0\n",
      "    0   0   0   0   0   0   0   0   0   0]\n",
      " [  0   0   0   0   0   0   0   0   0   0   0   0  35 241 225 160 108   1\n",
      "    0   0   0   0   0   0   0   0   0   0]\n",
      " [  0   0   0   0   0   0   0   0   0   0   0   0   0  81 240 253 253 119\n",
      "   25   0   0   0   0   0   0   0   0   0]\n",
      " [  0   0   0   0   0   0   0   0   0   0   0   0   0   0  45 186 253 253\n",
      "  150  27   0   0   0   0   0   0   0   0]\n",
      " [  0   0   0   0   0   0   0   0   0   0   0   0   0   0   0  16  93 252\n",
      "  253 187   0   0   0   0   0   0   0   0]\n",
      " [  0   0   0   0   0   0   0   0   0   0   0   0   0   0   0   0   0 249\n",
      "  253 249  64   0   0   0   0   0   0   0]\n",
      " [  0   0   0   0   0   0   0   0   0   0   0   0   0   0  46 130 183 253\n",
      "  253 207   2   0   0   0   0   0   0   0]\n",
      " [  0   0   0   0   0   0   0   0   0   0   0   0  39 148 229 253 253 253\n",
      "  250 182   0   0   0   0   0   0   0   0]\n",
      " [  0   0   0   0   0   0   0   0   0   0  24 114 221 253 253 253 253 201\n",
      "   78   0   0   0   0   0   0   0   0   0]\n",
      " [  0   0   0   0   0   0   0   0  23  66 213 253 253 253 253 198  81   2\n",
      "    0   0   0   0   0   0   0   0   0   0]\n",
      " [  0   0   0   0   0   0  18 171 219 253 253 253 253 195  80   9   0   0\n",
      "    0   0   0   0   0   0   0   0   0   0]\n",
      " [  0   0   0   0  55 172 226 253 253 253 253 244 133  11   0   0   0   0\n",
      "    0   0   0   0   0   0   0   0   0   0]\n",
      " [  0   0   0   0 136 253 253 253 212 135 132  16   0   0   0   0   0   0\n",
      "    0   0   0   0   0   0   0   0   0   0]\n",
      " [  0   0   0   0   0   0   0   0   0   0   0   0   0   0   0   0   0   0\n",
      "    0   0   0   0   0   0   0   0   0   0]\n",
      " [  0   0   0   0   0   0   0   0   0   0   0   0   0   0   0   0   0   0\n",
      "    0   0   0   0   0   0   0   0   0   0]\n",
      " [  0   0   0   0   0   0   0   0   0   0   0   0   0   0   0   0   0   0\n",
      "    0   0   0   0   0   0   0   0   0   0]]\n"
     ]
    },
    {
     "data": {
      "image/png": "[encoded data removed]",
      "text/plain": [
       "<matplotlib.figure.Figure at 0x11b5d32e8>"
      ]
     },
     "metadata": {},
     "output_type": "display_data"
    }
   ],
   "source": [
    "import sys, os\n",
    "sys.path.append(os.pardir) # 親ディレクトリのファイルをインポートするための設定\n",
    "from original.dataset.mnist import load_mnist\n",
    "import numpy as np\n",
    "from PIL import Image\n",
    "import matplotlib.pyplot as plt\n",
    "\n",
    "def img_show(img):\n",
    "    pil_img = Image.fromarray(np.uint8(img))\n",
    "    pil_img.show()\n",
    "    \n",
    "(x_train, t_train), (x_test, t_test) = load_mnist(flatten=True, normalize=False)\n",
    "\n",
    "img = x_train[0]\n",
    "label = t_train[0]\n",
    "print(label) # 5\n",
    "\n",
    "print(img.shape)\n",
    "img = img.reshape(28, 28) # 1次元で格納されているため, 28*28ピクセルに変換\n",
    "plt.imshow(img)\n",
    "print(img)\n",
    "img_show(img)"
   ]
  },
  {
   "cell_type": "code",
   "execution_count": 22,
   "metadata": {},
   "outputs": [
    {
     "name": "stdout",
     "output_type": "stream",
     "text": [
      "x shape: (10000, 784)\n",
      "t shape: (10000,)\n",
      "network keys: dict_keys(['b2', 'W1', 'b1', 'W2', 'W3', 'b3'])\n",
      "Accuracy:0.9352\n"
     ]
    }
   ],
   "source": [
    "\"\"\"\n",
    "[ニューラルネットワークの実装]\n",
    "入力層を784個, 出力層を１０個のニューロンで構成する.\n",
    "出力層の10という数字は10クラス分類(数字の0~9の10クラス)から.\n",
    "また, 隠れ層が2つあり, １つ目の隠れ層が50個, ２つの層が100個のニューロンを持つものとする.\n",
    "\"\"\"\n",
    "import pickle\n",
    "\n",
    "def get_data():\n",
    "    \"\"\"テスト画像, テストラベルのタプルを返す\"\"\"\n",
    "    (x_train, t_train), (x_test, t_test) = load_mnist(normalize=True, flatten=True, one_hot_label=False)\n",
    "    return x_test, t_test\n",
    "\n",
    "def init_network():\n",
    "    # 学習済みの重みパラメータを読み込み       \n",
    "    with open(\"sample_weight.pkl\", 'rb') as f:\n",
    "        network = pickle.load(f)\n",
    "    return network\n",
    "\n",
    "def predict(network, x):\n",
    "    W1, W2, W3 = network['W1'], network['W2'], network['W3']\n",
    "    b1, b2, b3 = network['b1'], network['b2'], network['b3']\n",
    "\n",
    "    a1 = np.dot(x, W1) + b1\n",
    "    z1 = sigmoid(a1)\n",
    "    a2 = np.dot(z1, W2) + b2\n",
    "    z2 = sigmoid(a2)\n",
    "    a3 = np.dot(z2, W3) + b3\n",
    "    y = softmax(a3)\n",
    "    return y\n",
    "\n",
    "# 実行\n",
    "x, t = get_data()\n",
    "print(\"x shape:\", x.shape)\n",
    "print(\"t shape:\", t.shape)\n",
    "network = init_network()\n",
    "print(\"network keys:\", network.keys())\n",
    "\n",
    "# 推論\n",
    "accuracy_cnt = 0\n",
    "for i in range(len(x)):\n",
    "    y = predict(network, x[i])\n",
    "    p = np.argmax(y)\n",
    "    if p == t[i]: # 予測した答えと正解ラベルを比較\n",
    "        accuracy_cnt += 1\n",
    "print(\"Accuracy:\" + str(float(accuracy_cnt) / len(x)))"
   ]
  },
  {
   "cell_type": "code",
   "execution_count": 17,
   "metadata": {},
   "outputs": [
    {
     "name": "stdout",
     "output_type": "stream",
     "text": [
      "(10000, 784)\n",
      "W1: (784, 50)\n",
      "W2: (50, 100)\n",
      "W3: (100, 10)\n"
     ]
    }
   ],
   "source": [
    "x, _ = get_data()\n",
    "network = init_network()\n",
    "W1, W2, W3 = network['W1'], network['W2'], network['W3']\n",
    "\n",
    "print(x.shape)\n",
    "print(\"W1:\", W1.shape)\n",
    "print(\"W2:\", W2.shape)\n",
    "print(\"W3:\", W3.shape)"
   ]
  },
  {
   "cell_type": "code",
   "execution_count": 18,
   "metadata": {},
   "outputs": [
    {
     "name": "stdout",
     "output_type": "stream",
     "text": [
      "Accuracy: 0.9352\n"
     ]
    }
   ],
   "source": [
    "\"\"\"\n",
    "バッチ処理による実装\n",
    "\"\"\"\n",
    "x, t = get_data()\n",
    "network = init_network()\n",
    "\n",
    "batch_size = 100 # バッチの数\n",
    "accuracy_cnt = 0\n",
    "\n",
    "for i in range(0, len(x), batch_size):\n",
    "    x_batch = x[i : i + batch_size] # batch_size分を抜き出す\n",
    "    y_batch = predict(network, x_batch)\n",
    "    p = np.argmax(y_batch, axis=1) # 0次元目ではなく, 1次元目の配列ごとに最大値のインデックスを見つける\n",
    "    accuracy_cnt += np.sum(p == t[i : i + batch_size]) # 配列同士を比較し, Trueの個数を算出する\n",
    "\n",
    "print(\"Accuracy: \" + str(float(accuracy_cnt) / len(x)))"
   ]
  }
 ],
 "metadata": {
  "kernelspec": {
   "display_name": "Python 3",
   "language": "python",
   "name": "python3"
  },
  "language_info": {
   "codemirror_mode": {
    "name": "ipython",
    "version": 3
   },
   "file_extension": ".py",
   "mimetype": "text/x-python",
   "name": "python",
   "nbconvert_exporter": "python",
   "pygments_lexer": "ipython3",
   "version": "3.6.4"
  }
 },
 "nbformat": 4,
 "nbformat_minor": 2
}
