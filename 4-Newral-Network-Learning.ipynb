{
 "cells": [
  {
   "cell_type": "code",
   "execution_count": null,
   "metadata": {},
   "outputs": [],
   "source": [
    "\"\"\"\n",
    "機械学習で画像を分類する場合, 画像から特徴量を抽出して, その特徴量のパターンを機械学習の技術で学習する方法が考えられる.\n",
    "この特徴量とは, 入力データから本質的なデータを的確に抽出できるように設計された変換器を指す.\n",
    "画像の特徴量は通常, ベクトルとして記述される. そのような特徴量を使って, 画像データをベクトルに変換し, そのベクトルに対して\n",
    "機械学習で使われる識別器(SVM, KNNなど)で学習されることができる.\n",
    "このアプローチでは, 画像をベクトルに変換する際に使用する特徴量は, 人が設計しなければ, 良い結果が得られない.\n",
    "一方で, ニューラルネットワークでは, 画像に含まれる特徴量までも機械が学習する.\n",
    "\n",
    "[損失関数]\n",
    "ニューラルネットワークの性能の悪さを表す指標.\n",
    "\n",
    "- 二乗和誤差\n",
    "- 交差エントロピー誤差\n",
    "\"\"\"\n",
    "pass"
   ]
  },
  {
   "cell_type": "code",
   "execution_count": null,
   "metadata": {},
   "outputs": [],
   "source": [
    "\"\"\"\n",
    "[二乗和誤差]\n",
    "E = 1/2 * (sum(y - t) ** 2)\n",
    "t: 正解データの配列\n",
    "y: ニューラルネットワークの出力配列\n",
    "\"\"\"\n",
    "def mean_squared_error(y, t):\n",
    "    return 0.5 * np.sum((y-t)**2)"
   ]
  },
  {
   "cell_type": "code",
   "execution_count": 6,
   "metadata": {},
   "outputs": [],
   "source": [
    "\"\"\"\n",
    "[交差エントロピー誤差]\n",
    "正解ラベルとなるインデックスのあたちの自然対数を出力する.\n",
    "E = -1 * sum(t * log(y))\n",
    "t: 正解ラベルのみ1, それ以外は0の配列\n",
    "y: ニューラルネットワークの出力配列\n",
    "\"\"\"\n",
    "def cross_entropy_error(y, t):\n",
    "    delta = 1e-7 # 微小値を追加して, np.log(0)のようなマイナス無限大を表す-infが発生することを防止\n",
    "    return -np.sum(t * np.log(y + delta))"
   ]
  },
  {
   "cell_type": "code",
   "execution_count": 11,
   "metadata": {},
   "outputs": [
    {
     "name": "stdout",
     "output_type": "stream",
     "text": [
      "(60000, 784)\n",
      "(60000, 10)\n",
      "[53165 21629 31181 48469 41953 21859   581 38086 46675  2922]\n",
      "(10, 784)\n",
      "(10, 10)\n"
     ]
    }
   ],
   "source": [
    "\"\"\"\n",
    "[ミニバッチ学習]\n",
    "対象データから一部をサンプリングし, 全体の近似として利用する.\n",
    "数百万, 数千万のビッグデータを対象に, すべての損失関数を計算するのは現実的でないため.\n",
    "\"\"\"\n",
    "import sys, os\n",
    "sys.path.append(os.pardir)\n",
    "import numpy as np\n",
    "from original.dataset.mnist import load_mnist\n",
    "\n",
    "(x_train, t_train), (x_test, t_test) = load_mnist(normalize=True, one_hot_label=True)\n",
    "print(x_train.shape) # 訓練画像\n",
    "print(t_train.shape) # 訓練ラベル\n",
    "\n",
    "train_size = x_train.shape[0]\n",
    "batch_size = 10\n",
    "batch_mask = np.random.choice(train_size, batch_size)\n",
    "print(batch_mask)\n",
    "\n",
    "# 対象サンプル抽出\n",
    "x_batch = x_train[batch_mask]\n",
    "t_batch = t_train[batch_mask]\n",
    "\n",
    "print(x_batch.shape)\n",
    "print(t_batch.shape)\n"
   ]
  },
  {
   "cell_type": "code",
   "execution_count": null,
   "metadata": {},
   "outputs": [],
   "source": [
    "# 交差エントロピー誤差をミニバッチに対応させる\n",
    "def cross_entropy_error(y, t):\n",
    "    if y.ndim == 1:\n",
    "        t = t.reshape(1, t.size)\n",
    "        y = y.reshape(1, y.size)\n",
    "    \n",
    "    batch_size = y.shape[0]\n",
    "    return -np.sum(t * np.log(y + 1e-7)) / batch_size"
   ]
  },
  {
   "cell_type": "code",
   "execution_count": 12,
   "metadata": {},
   "outputs": [],
   "source": [
    "\"\"\"\n",
    "[数値微分(numerical differentiation)]\n",
    "微小な差分によって微分を求める.\n",
    "\"\"\"\n",
    "def numerical_diff(f, x):\n",
    "    h = 1e-4 # 0.0001\n",
    "    # 数値微分の誤差を減らすため, 中心差分を計算する\n",
    "    return (f(x+h) - f(x-h)) / (2 * h)"
   ]
  },
  {
   "cell_type": "code",
   "execution_count": 19,
   "metadata": {},
   "outputs": [
    {
     "name": "stdout",
     "output_type": "stream",
     "text": [
      "0.1999999999990898\n",
      "-0.24999999999544897\n",
      "0.2999999999986347\n",
      "-0.9999999999863469\n"
     ]
    },
    {
     "data": {
      "image/png": "[encoded data removed]",
      "text/plain": [
       "<matplotlib.figure.Figure at 0x11b5e7ef0>"
      ]
     },
     "metadata": {},
     "output_type": "display_data"
    }
   ],
   "source": [
    "# 数値微分の例\n",
    "# y = 0.01x**2 + 0.1x\n",
    "\n",
    "def function_1(x):\n",
    "    return 0.01*x**2 + 0.1*x\n",
    "\n",
    "def tangent_line(f, x):\n",
    "    \"\"\"関数f(x)におけるxの接線の関数を返す\"\"\"\n",
    "    d = numerical_diff(f, x)\n",
    "    print(d)\n",
    "    y = f(x) - d*x\n",
    "    print(y)\n",
    "    return lambda t: d*t + y\n",
    "\n",
    "import numpy as np\n",
    "import matplotlib.pylab as plt\n",
    "\n",
    "x = np.arange(0.0, 20.0, 0.1)\n",
    "y = function_1(x)\n",
    "\n",
    "# 微分により求めたx=5の接線\n",
    "tf = tangent_line(function_1, 5)\n",
    "y2 = tf(x)\n",
    "\n",
    "# x=10の接線\n",
    "tf = tangent_line(function_1, 10)\n",
    "y3 = tf(x)\n",
    "\n",
    "plt.xlabel(\"x\")\n",
    "plt.ylabel(\"f(x)\")\n",
    "plt.plot(x, y)\n",
    "plt.plot(x, y2)\n",
    "plt.plot(x, y3)\n",
    "\n",
    "plt.show()"
   ]
  }
 ],
 "metadata": {
  "kernelspec": {
   "display_name": "Python 3",
   "language": "python",
   "name": "python3"
  },
  "language_info": {
   "codemirror_mode": {
    "name": "ipython",
    "version": 3
   },
   "file_extension": ".py",
   "mimetype": "text/x-python",
   "name": "python",
   "nbconvert_exporter": "python",
   "pygments_lexer": "ipython3",
   "version": "3.6.4"
  }
 },
 "nbformat": 4,
 "nbformat_minor": 2
}
